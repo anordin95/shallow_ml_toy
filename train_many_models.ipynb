{
 "cells": [
  {
   "cell_type": "code",
   "execution_count": 1,
   "id": "59b4d62f-f81a-4e56-aca8-f66ed3244724",
   "metadata": {},
   "outputs": [],
   "source": [
    "import time\n",
    "\n",
    "import torch\n",
    "import pandas as pd\n",
    "import numpy as np\n",
    "import matplotlib.pyplot as plt\n",
    "import seaborn as sns\n",
    "import tqdm\n",
    "\n",
    "from simple_ml import generate_dataset, plot_functions, train\n",
    "from simple_ml.model import ShallowNetwork\n",
    "\n",
    "pd.set_option('max_colwidth', 500)\n",
    "sns.set_theme()\n",
    "\n",
    "%load_ext autoreload\n",
    "%autoreload 2"
   ]
  },
  {
   "cell_type": "code",
   "execution_count": 2,
   "id": "aea78fd2-8994-4bb9-88eb-e39c368925b5",
   "metadata": {},
   "outputs": [
    {
     "data": {
      "image/png": "[encoded data removed]",
      "text/plain": [
       "<Figure size 600x600 with 1 Axes>"
      ]
     },
     "metadata": {},
     "output_type": "display_data"
    }
   ],
   "source": [
    "NUM_DATA_POINTS_PER_CLASS = 500\n",
    "\n",
    "# There are other dataset options including lines and a full-circle.\n",
    "df = generate_dataset.generate_semi_circle_dataset(inner_radius=1, outer_radius=5, num_data_points_per_class=NUM_DATA_POINTS_PER_CLASS)\n",
    "\n",
    "plot_functions.create_dataset_plot(df, ndim=2)"
   ]
  },
  {
   "cell_type": "markdown",
   "id": "b33e648f-a81d-436c-a449-3ac9d89cb781",
   "metadata": {},
   "source": [
    "### Perform many, many training runs"
   ]
  },
  {
   "cell_type": "code",
   "execution_count": 8,
   "id": "0828e9f3-20e0-4412-a796-f690c559a9f8",
   "metadata": {},
   "outputs": [
    {
     "name": "stderr",
     "output_type": "stream",
     "text": [
      "100%|███████████████| 10000/10000 [4:28:04<00:00,  1.61s/it]\n"
     ]
    },
    {
     "name": "stdout",
     "output_type": "stream",
     "text": [
      "Time elapsed: 16090s. Average number of training-steps (rounded to the nearest thousand): 24,000.\n"
     ]
    }
   ],
   "source": [
    "# Oh man!! I wasn't using a ModuleList to wrap the series of HiddenUnit objects within the broader ShallowNetwork object. The optimizer did not recognize \n",
    "# parameters of those HiddenUnit's so they weren't trained at all! That explains why I was finding so MANY unique solutions.\n",
    "\n",
    "# The performance as a function of the number of processes used was surprisingly variable. These are the results I observed for an n=3 points per class semi-circle dataset and total 100 training runs.\n",
    "# Ah, I suspect the variance of the number-of-steps-to-converge is playing a role, even though I'm taking 100 samples. Though, I only suspected it after observing it, hah!\n",
    "\n",
    "# 1 process: 2265 seconds.\n",
    "# 3 processes: 683 seconds.\n",
    "# 4 processes: 574 seconds.\n",
    "# 6 processes: 393 seconds.\n",
    "# 9 processes: 876 seconds.\n",
    "\n",
    "# I then began recording the average number of steps to reach convergence along with the time elapsed.\n",
    "# 1 process:   2612 seconds, and on average 97,000  steps. Seconds / 1k steps: 27. (Note: this was using the serial framework.)\n",
    "# 1 process:   2003 seconds, and on average 77,000  steps. Seconds / 1k steps: 26. (Note: this was using the multi-process framework with n=1).\n",
    "# 2 processes: 912  seconds, and on average 60,000  steps. Seconds / 1k steps: 15.\n",
    "# 3 processes: 1703 seconds, and on average 121,000 steps. Seconds / 1k steps: 14.\n",
    "# 4 processes: 346  seconds, and on average 35,000  steps. Seconds / 1k steps: 10.\n",
    "# 5 processes: 1597 seconds, and on average 95,000  steps. Seconds / 1k steps: 17.\n",
    "# 6 processes: 586  seconds, and on average 47,000  steps. Seconds / 1k steps: 12.\n",
    "# 7 processes: 701  seconds, and on average 60,000  steps. Seconds / 1k steps: 12.\n",
    "\n",
    "# I put a decent amount of effort into selecting the num_steps_to_improve_min_amount hyper-parameter.\n",
    "# I first ran the training process with this hyper-parameter. Once training halted, I re-ran the training process \n",
    "# starting from the learned model rather than a freshly initialized model, and with a paramteter value 100 times \n",
    "# larger. If the loss achieved on the second run is 5e-4 (5 times the min-improvement of 1e-4) lower, then I considered \n",
    "# the initial selection of this hyper-parameter value to be too low. I then repeated this 25 times with different \n",
    "# model-initializations each time. If any of the 25 trials failed, then I'd increase the hyper-parameters' value.\n",
    "\n",
    "# For example, I first trained with 1,000 steps as the number of steps to see a minimal improvement, then \n",
    "# waited for training to halt, then re-ran the training process with 100,000 steps as the number of \n",
    "# steps to see minimal improvement. If the loss after re-running was better beyond some tiny threshold,\n",
    "# then, I'd have chosen a parameter larger than 1,000 and gone through the whole validation process again.\n",
    "\n",
    "# With a value of 5,000 steps and 50 data-points per semi-circle, 22 runs passed the trial and 1 failed the trial, since the model improved from \n",
    "# a loss of 0.001 to 0.0001. I think that's close enough.\n",
    "\n",
    "import simple_ml.multiprocess_train_many as multiprocess_train_many\n",
    "\n",
    "NUM_STEPS_TO_IMPROVE_MIN_AMOUNT = 5_000\n",
    "MIN_LOSS_IMPROVEMENT = 1e-4\n",
    "NUM_TRAINING_RUNS = 10_000\n",
    "\n",
    "\n",
    "start_time = time.time()\n",
    "\n",
    "result_df = multiprocess_train_many.multiprocess_train(\n",
    "    num_processes=4, \n",
    "    training_df=df,\n",
    "    num_training_runs=NUM_TRAINING_RUNS,\n",
    "    min_loss_improvement=MIN_LOSS_IMPROVEMENT, \n",
    "    num_steps_to_improve_min_amount=NUM_STEPS_TO_IMPROVE_MIN_AMOUNT,\n",
    ")\n",
    "\n",
    "print(f\"Time elapsed: {time.time() - start_time:.0f}s. Average number of training-steps (rounded to the nearest thousand): {int(result_df['num_training_steps'].mean().round(-3)):,}.\")\n",
    "result_df.to_pickle(f\"artifacts/{NUM_TRAINING_RUNS}_training_runs_on_semicircle_dataset_n-{NUM_DATA_POINTS_PER_CLASS}.pkl\")"
   ]
  },
  {
   "cell_type": "markdown",
   "id": "bc5c791e-e2b6-47b1-85a8-4fc13f3b470e",
   "metadata": {},
   "source": [
    "### Analyze the results"
   ]
  },
  {
   "cell_type": "markdown",
   "id": "e88aeb25-2180-4064-9efd-2825393540e7",
   "metadata": {},
   "source": [
    "##### How many unique valleys were found?"
   ]
  },
  {
   "cell_type": "code",
   "execution_count": 14,
   "id": "d5cf8af9-5807-405f-be8a-567e2fa8d464",
   "metadata": {},
   "outputs": [
    {
     "data": {
      "text/plain": [
       "best_loss\n",
       "0.045    1766\n",
       "0.049    3553\n",
       "0.084    3318\n",
       "0.693    1363\n",
       "Name: count, dtype: int64"
      ]
     },
     "execution_count": 14,
     "metadata": {},
     "output_type": "execute_result"
    }
   ],
   "source": [
    "performance_df['best_loss'].round(3).value_counts().sort_index()"
   ]
  },
  {
   "cell_type": "code",
   "execution_count": 16,
   "id": "fd07c27b-3868-445e-9fdc-faf4b638900d",
   "metadata": {},
   "outputs": [
    {
     "name": "stdout",
     "output_type": "stream",
     "text": [
      "Number of unique best-loss scores obtained to 8 degrees of precision: 8.\n",
      "Number of unique best-loss scores obtained to 4 degrees of precision: 8.\n",
      "Number of unique best-loss scores obtained to 3 degrees of precision: 4.\n",
      "Number of unique best-loss scores obtained to 2 degrees of precision: 3.\n",
      "Number of unique best-loss scores obtained to 1 degree of precision: 3.\n"
     ]
    }
   ],
   "source": [
    "# performance_df = pd.read_pickle(\"optimization_results_for_100_model_initializations.pkl\")\n",
    "performance_df = result_df\n",
    "\n",
    "print(f\"Number of unique best-loss scores obtained to 5 degrees of precision: {performance_df['best_loss'].round(5).nunique():,}.\")\n",
    "print(f\"Number of unique best-loss scores obtained to 4 degrees of precision: {performance_df['best_loss'].round(4).nunique():,}.\")\n",
    "print(f\"Number of unique best-loss scores obtained to 3 degrees of precision: {performance_df['best_loss'].round(3).nunique():,}.\")\n",
    "print(f\"Number of unique best-loss scores obtained to 2 degrees of precision: {performance_df['best_loss'].round(2).nunique():,}.\")\n",
    "print(f\"Number of unique best-loss scores obtained to 1 degree of precision: {performance_df['best_loss'].round(1).nunique():,}.\")\n",
    "\n",
    "performance_df['best_loss'] = performance_df['best_loss'].round(4)"
   ]
  },
  {
   "cell_type": "markdown",
   "id": "b6be1dc3-c829-4221-b7a3-b9766f0d3b5b",
   "metadata": {},
   "source": [
    "##### Are any models nearly identical?\n",
    "\n",
    "This approach only checks if all parameters are nearly equal. It does not account for ReLU's non-negative homogeneity."
   ]
  },
  {
   "cell_type": "code",
   "execution_count": null,
   "id": "62dac307-5c98-4979-be4b-0263a0c58ddc",
   "metadata": {},
   "outputs": [],
   "source": [
    "# No matches found to 4, 3 nor 2 degrees of precision.\n",
    "matching_indices = []\n",
    "for outer_idx, model in tqdm.tqdm(enumerate(display_df[non_unique_loss_indices]['model'])):\n",
    "    for inner_idx, other_model in enumerate(display_df[non_unique_loss_indices]['model']):\n",
    "        \n",
    "        if outer_idx <= inner_idx:\n",
    "            continue\n",
    "        if model.nearly_equals(other_model, precision=1):\n",
    "            # print(f\"Found match!! Models at indices {outer_idx} and {inner_idx} are nearly equal.\")\n",
    "            \n",
    "            if inner_idx not in matching_indices:\n",
    "                matching_indices.append(inner_idx)\n",
    "            if outer_idx not in matching_indices:\n",
    "                matching_indices.append(outer_idx)\n",
    "\n",
    "matching_indices = pd.Series(matching_indices)"
   ]
  },
  {
   "cell_type": "code",
   "execution_count": null,
   "id": "6a0a6f98-1949-4232-a445-ba91b52d658f",
   "metadata": {},
   "outputs": [],
   "source": [
    "non_unique_loss_indices = performance_df['loss'].duplicated(keep=False)\n",
    "performance_df[non_unique_loss_indices].sort_values('loss')"
   ]
  },
  {
   "cell_type": "markdown",
   "id": "0e889687-e3c4-4e49-a457-c300dab8224c",
   "metadata": {},
   "source": [
    "##### Visualize the results"
   ]
  },
  {
   "cell_type": "code",
   "execution_count": 48,
   "id": "254b4c92-3159-49fe-a3bf-5539e0ff8f78",
   "metadata": {},
   "outputs": [
    {
     "ename": "ValueError",
     "evalue": "Could not interpret value `loss` for `y`. An entry with this name does not appear in `data`.",
     "output_type": "error",
     "traceback": [
      "\u001b[0;31m---------------------------------------------------------------------------\u001b[0m",
      "\u001b[0;31mValueError\u001b[0m                                Traceback (most recent call last)",
      "Cell \u001b[0;32mIn[48], line 2\u001b[0m\n\u001b[1;32m      1\u001b[0m performance_df[\u001b[38;5;124m'\u001b[39m\u001b[38;5;124mlog_2_num_training_steps\u001b[39m\u001b[38;5;124m'\u001b[39m] \u001b[38;5;241m=\u001b[39m performance_df[\u001b[38;5;124m'\u001b[39m\u001b[38;5;124mnum_training_steps\u001b[39m\u001b[38;5;124m'\u001b[39m]\u001b[38;5;241m.\u001b[39mapply(np\u001b[38;5;241m.\u001b[39mlog2)\n\u001b[0;32m----> 2\u001b[0m _ \u001b[38;5;241m=\u001b[39m \u001b[43msns\u001b[49m\u001b[38;5;241;43m.\u001b[39;49m\u001b[43mscatterplot\u001b[49m\u001b[43m(\u001b[49m\u001b[43mdata\u001b[49m\u001b[38;5;241;43m=\u001b[39;49m\u001b[43mperformance_df\u001b[49m\u001b[43m,\u001b[49m\u001b[43m \u001b[49m\u001b[43mx\u001b[49m\u001b[38;5;241;43m=\u001b[39;49m\u001b[38;5;124;43m'\u001b[39;49m\u001b[38;5;124;43mlog_2_num_training_steps\u001b[39;49m\u001b[38;5;124;43m'\u001b[39;49m\u001b[43m,\u001b[49m\u001b[43m \u001b[49m\u001b[43my\u001b[49m\u001b[38;5;241;43m=\u001b[39;49m\u001b[38;5;124;43m'\u001b[39;49m\u001b[38;5;124;43mloss\u001b[39;49m\u001b[38;5;124;43m'\u001b[39;49m\u001b[43m)\u001b[49m\n",
      "File \u001b[0;32m~/.pyenv/versions/3.12.3/envs/3.12.3-env/lib/python3.12/site-packages/seaborn/relational.py:615\u001b[0m, in \u001b[0;36mscatterplot\u001b[0;34m(data, x, y, hue, size, style, palette, hue_order, hue_norm, sizes, size_order, size_norm, markers, style_order, legend, ax, **kwargs)\u001b[0m\n\u001b[1;32m    606\u001b[0m \u001b[38;5;28;01mdef\u001b[39;00m \u001b[38;5;21mscatterplot\u001b[39m(\n\u001b[1;32m    607\u001b[0m     data\u001b[38;5;241m=\u001b[39m\u001b[38;5;28;01mNone\u001b[39;00m, \u001b[38;5;241m*\u001b[39m,\n\u001b[1;32m    608\u001b[0m     x\u001b[38;5;241m=\u001b[39m\u001b[38;5;28;01mNone\u001b[39;00m, y\u001b[38;5;241m=\u001b[39m\u001b[38;5;28;01mNone\u001b[39;00m, hue\u001b[38;5;241m=\u001b[39m\u001b[38;5;28;01mNone\u001b[39;00m, size\u001b[38;5;241m=\u001b[39m\u001b[38;5;28;01mNone\u001b[39;00m, style\u001b[38;5;241m=\u001b[39m\u001b[38;5;28;01mNone\u001b[39;00m,\n\u001b[0;32m   (...)\u001b[0m\n\u001b[1;32m    612\u001b[0m     \u001b[38;5;241m*\u001b[39m\u001b[38;5;241m*\u001b[39mkwargs\n\u001b[1;32m    613\u001b[0m ):\n\u001b[0;32m--> 615\u001b[0m     p \u001b[38;5;241m=\u001b[39m \u001b[43m_ScatterPlotter\u001b[49m\u001b[43m(\u001b[49m\n\u001b[1;32m    616\u001b[0m \u001b[43m        \u001b[49m\u001b[43mdata\u001b[49m\u001b[38;5;241;43m=\u001b[39;49m\u001b[43mdata\u001b[49m\u001b[43m,\u001b[49m\n\u001b[1;32m    617\u001b[0m \u001b[43m        \u001b[49m\u001b[43mvariables\u001b[49m\u001b[38;5;241;43m=\u001b[39;49m\u001b[38;5;28;43mdict\u001b[39;49m\u001b[43m(\u001b[49m\u001b[43mx\u001b[49m\u001b[38;5;241;43m=\u001b[39;49m\u001b[43mx\u001b[49m\u001b[43m,\u001b[49m\u001b[43m \u001b[49m\u001b[43my\u001b[49m\u001b[38;5;241;43m=\u001b[39;49m\u001b[43my\u001b[49m\u001b[43m,\u001b[49m\u001b[43m \u001b[49m\u001b[43mhue\u001b[49m\u001b[38;5;241;43m=\u001b[39;49m\u001b[43mhue\u001b[49m\u001b[43m,\u001b[49m\u001b[43m \u001b[49m\u001b[43msize\u001b[49m\u001b[38;5;241;43m=\u001b[39;49m\u001b[43msize\u001b[49m\u001b[43m,\u001b[49m\u001b[43m \u001b[49m\u001b[43mstyle\u001b[49m\u001b[38;5;241;43m=\u001b[39;49m\u001b[43mstyle\u001b[49m\u001b[43m)\u001b[49m\u001b[43m,\u001b[49m\n\u001b[1;32m    618\u001b[0m \u001b[43m        \u001b[49m\u001b[43mlegend\u001b[49m\u001b[38;5;241;43m=\u001b[39;49m\u001b[43mlegend\u001b[49m\n\u001b[1;32m    619\u001b[0m \u001b[43m    \u001b[49m\u001b[43m)\u001b[49m\n\u001b[1;32m    621\u001b[0m     p\u001b[38;5;241m.\u001b[39mmap_hue(palette\u001b[38;5;241m=\u001b[39mpalette, order\u001b[38;5;241m=\u001b[39mhue_order, norm\u001b[38;5;241m=\u001b[39mhue_norm)\n\u001b[1;32m    622\u001b[0m     p\u001b[38;5;241m.\u001b[39mmap_size(sizes\u001b[38;5;241m=\u001b[39msizes, order\u001b[38;5;241m=\u001b[39msize_order, norm\u001b[38;5;241m=\u001b[39msize_norm)\n",
      "File \u001b[0;32m~/.pyenv/versions/3.12.3/envs/3.12.3-env/lib/python3.12/site-packages/seaborn/relational.py:396\u001b[0m, in \u001b[0;36m_ScatterPlotter.__init__\u001b[0;34m(self, data, variables, legend)\u001b[0m\n\u001b[1;32m    387\u001b[0m \u001b[38;5;28;01mdef\u001b[39;00m \u001b[38;5;21m__init__\u001b[39m(\u001b[38;5;28mself\u001b[39m, \u001b[38;5;241m*\u001b[39m, data\u001b[38;5;241m=\u001b[39m\u001b[38;5;28;01mNone\u001b[39;00m, variables\u001b[38;5;241m=\u001b[39m{}, legend\u001b[38;5;241m=\u001b[39m\u001b[38;5;28;01mNone\u001b[39;00m):\n\u001b[1;32m    388\u001b[0m \n\u001b[1;32m    389\u001b[0m     \u001b[38;5;66;03m# TODO this is messy, we want the mapping to be agnostic about\u001b[39;00m\n\u001b[1;32m    390\u001b[0m     \u001b[38;5;66;03m# the kind of plot to draw, but for the time being we need to set\u001b[39;00m\n\u001b[1;32m    391\u001b[0m     \u001b[38;5;66;03m# this information so the SizeMapping can use it\u001b[39;00m\n\u001b[1;32m    392\u001b[0m     \u001b[38;5;28mself\u001b[39m\u001b[38;5;241m.\u001b[39m_default_size_range \u001b[38;5;241m=\u001b[39m (\n\u001b[1;32m    393\u001b[0m         np\u001b[38;5;241m.\u001b[39mr_[\u001b[38;5;241m.5\u001b[39m, \u001b[38;5;241m2\u001b[39m] \u001b[38;5;241m*\u001b[39m np\u001b[38;5;241m.\u001b[39msquare(mpl\u001b[38;5;241m.\u001b[39mrcParams[\u001b[38;5;124m\"\u001b[39m\u001b[38;5;124mlines.markersize\u001b[39m\u001b[38;5;124m\"\u001b[39m])\n\u001b[1;32m    394\u001b[0m     )\n\u001b[0;32m--> 396\u001b[0m     \u001b[38;5;28;43msuper\u001b[39;49m\u001b[43m(\u001b[49m\u001b[43m)\u001b[49m\u001b[38;5;241;43m.\u001b[39;49m\u001b[38;5;21;43m__init__\u001b[39;49m\u001b[43m(\u001b[49m\u001b[43mdata\u001b[49m\u001b[38;5;241;43m=\u001b[39;49m\u001b[43mdata\u001b[49m\u001b[43m,\u001b[49m\u001b[43m \u001b[49m\u001b[43mvariables\u001b[49m\u001b[38;5;241;43m=\u001b[39;49m\u001b[43mvariables\u001b[49m\u001b[43m)\u001b[49m\n\u001b[1;32m    398\u001b[0m     \u001b[38;5;28mself\u001b[39m\u001b[38;5;241m.\u001b[39mlegend \u001b[38;5;241m=\u001b[39m legend\n",
      "File \u001b[0;32m~/.pyenv/versions/3.12.3/envs/3.12.3-env/lib/python3.12/site-packages/seaborn/_base.py:634\u001b[0m, in \u001b[0;36mVectorPlotter.__init__\u001b[0;34m(self, data, variables)\u001b[0m\n\u001b[1;32m    629\u001b[0m \u001b[38;5;66;03m# var_ordered is relevant only for categorical axis variables, and may\u001b[39;00m\n\u001b[1;32m    630\u001b[0m \u001b[38;5;66;03m# be better handled by an internal axis information object that tracks\u001b[39;00m\n\u001b[1;32m    631\u001b[0m \u001b[38;5;66;03m# such information and is set up by the scale_* methods. The analogous\u001b[39;00m\n\u001b[1;32m    632\u001b[0m \u001b[38;5;66;03m# information for numeric axes would be information about log scales.\u001b[39;00m\n\u001b[1;32m    633\u001b[0m \u001b[38;5;28mself\u001b[39m\u001b[38;5;241m.\u001b[39m_var_ordered \u001b[38;5;241m=\u001b[39m {\u001b[38;5;124m\"\u001b[39m\u001b[38;5;124mx\u001b[39m\u001b[38;5;124m\"\u001b[39m: \u001b[38;5;28;01mFalse\u001b[39;00m, \u001b[38;5;124m\"\u001b[39m\u001b[38;5;124my\u001b[39m\u001b[38;5;124m\"\u001b[39m: \u001b[38;5;28;01mFalse\u001b[39;00m}  \u001b[38;5;66;03m# alt., used DefaultDict\u001b[39;00m\n\u001b[0;32m--> 634\u001b[0m \u001b[38;5;28;43mself\u001b[39;49m\u001b[38;5;241;43m.\u001b[39;49m\u001b[43massign_variables\u001b[49m\u001b[43m(\u001b[49m\u001b[43mdata\u001b[49m\u001b[43m,\u001b[49m\u001b[43m \u001b[49m\u001b[43mvariables\u001b[49m\u001b[43m)\u001b[49m\n\u001b[1;32m    636\u001b[0m \u001b[38;5;66;03m# TODO Lots of tests assume that these are called to initialize the\u001b[39;00m\n\u001b[1;32m    637\u001b[0m \u001b[38;5;66;03m# mappings to default values on class initialization. I'd prefer to\u001b[39;00m\n\u001b[1;32m    638\u001b[0m \u001b[38;5;66;03m# move away from that and only have a mapping when explicitly called.\u001b[39;00m\n\u001b[1;32m    639\u001b[0m \u001b[38;5;28;01mfor\u001b[39;00m var \u001b[38;5;129;01min\u001b[39;00m [\u001b[38;5;124m\"\u001b[39m\u001b[38;5;124mhue\u001b[39m\u001b[38;5;124m\"\u001b[39m, \u001b[38;5;124m\"\u001b[39m\u001b[38;5;124msize\u001b[39m\u001b[38;5;124m\"\u001b[39m, \u001b[38;5;124m\"\u001b[39m\u001b[38;5;124mstyle\u001b[39m\u001b[38;5;124m\"\u001b[39m]:\n",
      "File \u001b[0;32m~/.pyenv/versions/3.12.3/envs/3.12.3-env/lib/python3.12/site-packages/seaborn/_base.py:679\u001b[0m, in \u001b[0;36mVectorPlotter.assign_variables\u001b[0;34m(self, data, variables)\u001b[0m\n\u001b[1;32m    674\u001b[0m \u001b[38;5;28;01melse\u001b[39;00m:\n\u001b[1;32m    675\u001b[0m     \u001b[38;5;66;03m# When dealing with long-form input, use the newer PlotData\u001b[39;00m\n\u001b[1;32m    676\u001b[0m     \u001b[38;5;66;03m# object (internal but introduced for the objects interface)\u001b[39;00m\n\u001b[1;32m    677\u001b[0m     \u001b[38;5;66;03m# to centralize / standardize data consumption logic.\u001b[39;00m\n\u001b[1;32m    678\u001b[0m     \u001b[38;5;28mself\u001b[39m\u001b[38;5;241m.\u001b[39minput_format \u001b[38;5;241m=\u001b[39m \u001b[38;5;124m\"\u001b[39m\u001b[38;5;124mlong\u001b[39m\u001b[38;5;124m\"\u001b[39m\n\u001b[0;32m--> 679\u001b[0m     plot_data \u001b[38;5;241m=\u001b[39m \u001b[43mPlotData\u001b[49m\u001b[43m(\u001b[49m\u001b[43mdata\u001b[49m\u001b[43m,\u001b[49m\u001b[43m \u001b[49m\u001b[43mvariables\u001b[49m\u001b[43m)\u001b[49m\n\u001b[1;32m    680\u001b[0m     frame \u001b[38;5;241m=\u001b[39m plot_data\u001b[38;5;241m.\u001b[39mframe\n\u001b[1;32m    681\u001b[0m     names \u001b[38;5;241m=\u001b[39m plot_data\u001b[38;5;241m.\u001b[39mnames\n",
      "File \u001b[0;32m~/.pyenv/versions/3.12.3/envs/3.12.3-env/lib/python3.12/site-packages/seaborn/_core/data.py:58\u001b[0m, in \u001b[0;36mPlotData.__init__\u001b[0;34m(self, data, variables)\u001b[0m\n\u001b[1;32m     51\u001b[0m \u001b[38;5;28;01mdef\u001b[39;00m \u001b[38;5;21m__init__\u001b[39m(\n\u001b[1;32m     52\u001b[0m     \u001b[38;5;28mself\u001b[39m,\n\u001b[1;32m     53\u001b[0m     data: DataSource,\n\u001b[1;32m     54\u001b[0m     variables: \u001b[38;5;28mdict\u001b[39m[\u001b[38;5;28mstr\u001b[39m, VariableSpec],\n\u001b[1;32m     55\u001b[0m ):\n\u001b[1;32m     57\u001b[0m     data \u001b[38;5;241m=\u001b[39m handle_data_source(data)\n\u001b[0;32m---> 58\u001b[0m     frame, names, ids \u001b[38;5;241m=\u001b[39m \u001b[38;5;28;43mself\u001b[39;49m\u001b[38;5;241;43m.\u001b[39;49m\u001b[43m_assign_variables\u001b[49m\u001b[43m(\u001b[49m\u001b[43mdata\u001b[49m\u001b[43m,\u001b[49m\u001b[43m \u001b[49m\u001b[43mvariables\u001b[49m\u001b[43m)\u001b[49m\n\u001b[1;32m     60\u001b[0m     \u001b[38;5;28mself\u001b[39m\u001b[38;5;241m.\u001b[39mframe \u001b[38;5;241m=\u001b[39m frame\n\u001b[1;32m     61\u001b[0m     \u001b[38;5;28mself\u001b[39m\u001b[38;5;241m.\u001b[39mnames \u001b[38;5;241m=\u001b[39m names\n",
      "File \u001b[0;32m~/.pyenv/versions/3.12.3/envs/3.12.3-env/lib/python3.12/site-packages/seaborn/_core/data.py:232\u001b[0m, in \u001b[0;36mPlotData._assign_variables\u001b[0;34m(self, data, variables)\u001b[0m\n\u001b[1;32m    230\u001b[0m     \u001b[38;5;28;01melse\u001b[39;00m:\n\u001b[1;32m    231\u001b[0m         err \u001b[38;5;241m+\u001b[39m\u001b[38;5;241m=\u001b[39m \u001b[38;5;124m\"\u001b[39m\u001b[38;5;124mAn entry with this name does not appear in `data`.\u001b[39m\u001b[38;5;124m\"\u001b[39m\n\u001b[0;32m--> 232\u001b[0m     \u001b[38;5;28;01mraise\u001b[39;00m \u001b[38;5;167;01mValueError\u001b[39;00m(err)\n\u001b[1;32m    234\u001b[0m \u001b[38;5;28;01melse\u001b[39;00m:\n\u001b[1;32m    235\u001b[0m \n\u001b[1;32m    236\u001b[0m     \u001b[38;5;66;03m# Otherwise, assume the value somehow represents data\u001b[39;00m\n\u001b[1;32m    237\u001b[0m \n\u001b[1;32m    238\u001b[0m     \u001b[38;5;66;03m# Ignore empty data structures\u001b[39;00m\n\u001b[1;32m    239\u001b[0m     \u001b[38;5;28;01mif\u001b[39;00m \u001b[38;5;28misinstance\u001b[39m(val, Sized) \u001b[38;5;129;01mand\u001b[39;00m \u001b[38;5;28mlen\u001b[39m(val) \u001b[38;5;241m==\u001b[39m \u001b[38;5;241m0\u001b[39m:\n",
      "\u001b[0;31mValueError\u001b[0m: Could not interpret value `loss` for `y`. An entry with this name does not appear in `data`."
     ]
    }
   ],
   "source": [
    "performance_df['log_2_num_training_steps'] = performance_df['num_training_steps'].apply(np.log2)\n",
    "_ = sns.scatterplot(data=performance_df, x='log_2_num_training_steps', y='loss')"
   ]
  },
  {
   "cell_type": "code",
   "execution_count": null,
   "id": "e3f30452-7fae-4659-b5e4-001f16186a9f",
   "metadata": {},
   "outputs": [],
   "source": [
    "bins = np.arange(0, 70, 0.1)\n",
    "_ = sns.histplot(data=performance_df, x='loss', bins=bins)"
   ]
  },
  {
   "cell_type": "code",
   "execution_count": null,
   "id": "a53d5eed-b1da-42bf-b136-f4a7c85957f3",
   "metadata": {},
   "outputs": [],
   "source": []
  },
  {
   "cell_type": "markdown",
   "id": "a357dcb9-a300-4796-831c-376196979f63",
   "metadata": {},
   "source": [
    "### Compare CPU and GPU"
   ]
  },
  {
   "cell_type": "code",
   "execution_count": 40,
   "id": "8e8183d6-38bc-4ca0-a0a6-8ff1fb823f2f",
   "metadata": {},
   "outputs": [
    {
     "name": "stdout",
     "output_type": "stream",
     "text": [
      "Time elapsed on GPU: 47s. Loss: 0.00010. Number of training-steps: 28,034.\n",
      "Time elapsed on CPU: 6s. Loss: 0.00010. Number of training-steps: 28,028.\n"
     ]
    }
   ],
   "source": [
    "import copy\n",
    "\n",
    "NUM_STEPS_TO_IMPROVE_MIN_AMOUNT = 5_000\n",
    "MIN_LOSS_IMPROVEMENT = 1e-4\n",
    "NUM_TRAINING_RUNS = 10_000\n",
    "\n",
    "loss_fn = torch.nn.BCELoss(reduction='none')\n",
    "original_model = ShallowNetwork(num_hidden_units=1)\n",
    "\n",
    "\n",
    "gpu_model = copy.deepcopy(original_model)\n",
    "gpu_optimizer = torch.optim.Adam(gpu_model.parameters())\n",
    "\n",
    "start_time = time.time()\n",
    "learned_model, best_loss, num_training_steps = train.train(\n",
    "    gpu_model, loss_fn, gpu_optimizer, \n",
    "    training_df=df, \n",
    "    min_improvement=MIN_LOSS_IMPROVEMENT, \n",
    "    num_steps_to_improve_min_amount=NUM_STEPS_TO_IMPROVE_MIN_AMOUNT, \n",
    "    device=torch.device('mps')\n",
    ")\n",
    "print(f\"Time elapsed on GPU: {time.time() - start_time:.0f}s. Loss: {best_loss.item():.5f}. Number of training-steps: {num_training_steps:,}.\")\n",
    "\n",
    "\n",
    "cpu_model = copy.deepcopy(original_model)\n",
    "cpu_optimizer = torch.optim.Adam(cpu_model.parameters())\n",
    "\n",
    "start_time = time.time()\n",
    "learned_model, best_loss, num_training_steps = train.train(\n",
    "    cpu_model, loss_fn, cpu_optimizer, \n",
    "    training_df=df,\n",
    "    min_improvement=MIN_LOSS_IMPROVEMENT, \n",
    "    num_steps_to_improve_min_amount=NUM_STEPS_TO_IMPROVE_MIN_AMOUNT, \n",
    "    device=torch.device('cpu')\n",
    ")\n",
    "print(f\"Time elapsed on CPU: {time.time() - start_time:.0f}s. Loss: {best_loss.item():.8f}. Number of training-steps: {num_training_steps:,}.\")"
   ]
  },
  {
   "cell_type": "code",
   "execution_count": null,
   "id": "30c07396-f182-4c69-a243-c134f3ff00ab",
   "metadata": {},
   "outputs": [],
   "source": [
    "print(f\"original_model: {original_model}.\")\n",
    "print(f\"learned gpu model: {gpu_model}.\")\n",
    "print(f\"learned cpu model: {cpu_model}.\")"
   ]
  }
 ],
 "metadata": {
  "kernelspec": {
   "display_name": "Python 3 (ipykernel)",
   "language": "python",
   "name": "python3"
  },
  "language_info": {
   "codemirror_mode": {
    "name": "ipython",
    "version": 3
   },
   "file_extension": ".py",
   "mimetype": "text/x-python",
   "name": "python",
   "nbconvert_exporter": "python",
   "pygments_lexer": "ipython3",
   "version": "3.12.3"
  }
 },
 "nbformat": 4,
 "nbformat_minor": 5
}
